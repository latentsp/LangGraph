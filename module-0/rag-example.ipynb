{
  "cells": [
    {
      "cell_type": "markdown",
      "metadata": {
        "vscode": {
          "languageId": "raw"
        }
      },
      "source": [
        "# RAG (Retrieval Augmented Generation) with LangChain\n",
        "\n",
        "This notebook demonstrates how to implement a RAG system using LangChain. We'll cover:\n",
        "\n",
        "1. Loading and processing documents\n",
        "2. Creating vector embeddings\n",
        "3. Setting up a vector store\n",
        "4. Implementing retrieval\n",
        "5. Generating responses using retrieved context\n",
        "\n",
        "Let's get started!\n"
      ]
    },
    {
      "cell_type": "code",
      "execution_count": 1,
      "metadata": {},
      "outputs": [
        {
          "name": "stdout",
          "output_type": "stream",
          "text": [
            "Requirement already satisfied: langchain in /Users/jonathan_yarkoni/Projects/langchain-academy/lc-academy-env/lib/python3.13/site-packages (0.3.26)\n",
            "Requirement already satisfied: langchain-openai in /Users/jonathan_yarkoni/Projects/langchain-academy/lc-academy-env/lib/python3.13/site-packages (0.3.28)\n",
            "Requirement already satisfied: chromadb in /Users/jonathan_yarkoni/Projects/langchain-academy/lc-academy-env/lib/python3.13/site-packages (1.0.15)\n",
            "Requirement already satisfied: tiktoken in /Users/jonathan_yarkoni/Projects/langchain-academy/lc-academy-env/lib/python3.13/site-packages (0.9.0)\n",
            "Requirement already satisfied: langchain-core<1.0.0,>=0.3.66 in /Users/jonathan_yarkoni/Projects/langchain-academy/lc-academy-env/lib/python3.13/site-packages (from langchain) (0.3.71)\n",
            "Requirement already satisfied: langchain-text-splitters<1.0.0,>=0.3.8 in /Users/jonathan_yarkoni/Projects/langchain-academy/lc-academy-env/lib/python3.13/site-packages (from langchain) (0.3.8)\n",
            "Requirement already satisfied: langsmith>=0.1.17 in /Users/jonathan_yarkoni/Projects/langchain-academy/lc-academy-env/lib/python3.13/site-packages (from langchain) (0.4.8)\n",
            "Requirement already satisfied: pydantic<3.0.0,>=2.7.4 in /Users/jonathan_yarkoni/Projects/langchain-academy/lc-academy-env/lib/python3.13/site-packages (from langchain) (2.11.7)\n",
            "Requirement already satisfied: SQLAlchemy<3,>=1.4 in /Users/jonathan_yarkoni/Projects/langchain-academy/lc-academy-env/lib/python3.13/site-packages (from langchain) (2.0.41)\n",
            "Requirement already satisfied: requests<3,>=2 in /Users/jonathan_yarkoni/Projects/langchain-academy/lc-academy-env/lib/python3.13/site-packages (from langchain) (2.32.4)\n",
            "Requirement already satisfied: PyYAML>=5.3 in /Users/jonathan_yarkoni/Projects/langchain-academy/lc-academy-env/lib/python3.13/site-packages (from langchain) (6.0.2)\n",
            "Requirement already satisfied: tenacity!=8.4.0,<10.0.0,>=8.1.0 in /Users/jonathan_yarkoni/Projects/langchain-academy/lc-academy-env/lib/python3.13/site-packages (from langchain-core<1.0.0,>=0.3.66->langchain) (9.1.2)\n",
            "Requirement already satisfied: jsonpatch<2.0,>=1.33 in /Users/jonathan_yarkoni/Projects/langchain-academy/lc-academy-env/lib/python3.13/site-packages (from langchain-core<1.0.0,>=0.3.66->langchain) (1.33)\n",
            "Requirement already satisfied: typing-extensions>=4.7 in /Users/jonathan_yarkoni/Projects/langchain-academy/lc-academy-env/lib/python3.13/site-packages (from langchain-core<1.0.0,>=0.3.66->langchain) (4.14.1)\n",
            "Requirement already satisfied: packaging>=23.2 in /Users/jonathan_yarkoni/Projects/langchain-academy/lc-academy-env/lib/python3.13/site-packages (from langchain-core<1.0.0,>=0.3.66->langchain) (25.0)\n",
            "Requirement already satisfied: jsonpointer>=1.9 in /Users/jonathan_yarkoni/Projects/langchain-academy/lc-academy-env/lib/python3.13/site-packages (from jsonpatch<2.0,>=1.33->langchain-core<1.0.0,>=0.3.66->langchain) (3.0.0)\n",
            "Requirement already satisfied: annotated-types>=0.6.0 in /Users/jonathan_yarkoni/Projects/langchain-academy/lc-academy-env/lib/python3.13/site-packages (from pydantic<3.0.0,>=2.7.4->langchain) (0.7.0)\n",
            "Requirement already satisfied: pydantic-core==2.33.2 in /Users/jonathan_yarkoni/Projects/langchain-academy/lc-academy-env/lib/python3.13/site-packages (from pydantic<3.0.0,>=2.7.4->langchain) (2.33.2)\n",
            "Requirement already satisfied: typing-inspection>=0.4.0 in /Users/jonathan_yarkoni/Projects/langchain-academy/lc-academy-env/lib/python3.13/site-packages (from pydantic<3.0.0,>=2.7.4->langchain) (0.4.1)\n",
            "Requirement already satisfied: charset_normalizer<4,>=2 in /Users/jonathan_yarkoni/Projects/langchain-academy/lc-academy-env/lib/python3.13/site-packages (from requests<3,>=2->langchain) (3.4.2)\n",
            "Requirement already satisfied: idna<4,>=2.5 in /Users/jonathan_yarkoni/Projects/langchain-academy/lc-academy-env/lib/python3.13/site-packages (from requests<3,>=2->langchain) (3.10)\n",
            "Requirement already satisfied: urllib3<3,>=1.21.1 in /Users/jonathan_yarkoni/Projects/langchain-academy/lc-academy-env/lib/python3.13/site-packages (from requests<3,>=2->langchain) (2.5.0)\n",
            "Requirement already satisfied: certifi>=2017.4.17 in /Users/jonathan_yarkoni/Projects/langchain-academy/lc-academy-env/lib/python3.13/site-packages (from requests<3,>=2->langchain) (2025.7.14)\n",
            "Requirement already satisfied: openai<2.0.0,>=1.86.0 in /Users/jonathan_yarkoni/Projects/langchain-academy/lc-academy-env/lib/python3.13/site-packages (from langchain-openai) (1.97.1)\n",
            "Requirement already satisfied: regex>=2022.1.18 in /Users/jonathan_yarkoni/Projects/langchain-academy/lc-academy-env/lib/python3.13/site-packages (from tiktoken) (2024.11.6)\n",
            "Requirement already satisfied: anyio<5,>=3.5.0 in /Users/jonathan_yarkoni/Projects/langchain-academy/lc-academy-env/lib/python3.13/site-packages (from openai<2.0.0,>=1.86.0->langchain-openai) (4.9.0)\n",
            "Requirement already satisfied: distro<2,>=1.7.0 in /Users/jonathan_yarkoni/Projects/langchain-academy/lc-academy-env/lib/python3.13/site-packages (from openai<2.0.0,>=1.86.0->langchain-openai) (1.9.0)\n",
            "Requirement already satisfied: httpx<1,>=0.23.0 in /Users/jonathan_yarkoni/Projects/langchain-academy/lc-academy-env/lib/python3.13/site-packages (from openai<2.0.0,>=1.86.0->langchain-openai) (0.28.1)\n",
            "Requirement already satisfied: jiter<1,>=0.4.0 in /Users/jonathan_yarkoni/Projects/langchain-academy/lc-academy-env/lib/python3.13/site-packages (from openai<2.0.0,>=1.86.0->langchain-openai) (0.10.0)\n",
            "Requirement already satisfied: sniffio in /Users/jonathan_yarkoni/Projects/langchain-academy/lc-academy-env/lib/python3.13/site-packages (from openai<2.0.0,>=1.86.0->langchain-openai) (1.3.1)\n",
            "Requirement already satisfied: tqdm>4 in /Users/jonathan_yarkoni/Projects/langchain-academy/lc-academy-env/lib/python3.13/site-packages (from openai<2.0.0,>=1.86.0->langchain-openai) (4.67.1)\n",
            "Requirement already satisfied: httpcore==1.* in /Users/jonathan_yarkoni/Projects/langchain-academy/lc-academy-env/lib/python3.13/site-packages (from httpx<1,>=0.23.0->openai<2.0.0,>=1.86.0->langchain-openai) (1.0.9)\n",
            "Requirement already satisfied: h11>=0.16 in /Users/jonathan_yarkoni/Projects/langchain-academy/lc-academy-env/lib/python3.13/site-packages (from httpcore==1.*->httpx<1,>=0.23.0->openai<2.0.0,>=1.86.0->langchain-openai) (0.16.0)\n",
            "Requirement already satisfied: build>=1.0.3 in /Users/jonathan_yarkoni/Projects/langchain-academy/lc-academy-env/lib/python3.13/site-packages (from chromadb) (1.2.2.post1)\n",
            "Requirement already satisfied: pybase64>=1.4.1 in /Users/jonathan_yarkoni/Projects/langchain-academy/lc-academy-env/lib/python3.13/site-packages (from chromadb) (1.4.1)\n",
            "Requirement already satisfied: uvicorn>=0.18.3 in /Users/jonathan_yarkoni/Projects/langchain-academy/lc-academy-env/lib/python3.13/site-packages (from uvicorn[standard]>=0.18.3->chromadb) (0.35.0)\n",
            "Requirement already satisfied: numpy>=1.22.5 in /Users/jonathan_yarkoni/Projects/langchain-academy/lc-academy-env/lib/python3.13/site-packages (from chromadb) (2.3.1)\n",
            "Requirement already satisfied: posthog<6.0.0,>=2.4.0 in /Users/jonathan_yarkoni/Projects/langchain-academy/lc-academy-env/lib/python3.13/site-packages (from chromadb) (5.4.0)\n",
            "Requirement already satisfied: onnxruntime>=1.14.1 in /Users/jonathan_yarkoni/Projects/langchain-academy/lc-academy-env/lib/python3.13/site-packages (from chromadb) (1.22.1)\n",
            "Requirement already satisfied: opentelemetry-api>=1.2.0 in /Users/jonathan_yarkoni/Projects/langchain-academy/lc-academy-env/lib/python3.13/site-packages (from chromadb) (1.35.0)\n",
            "Requirement already satisfied: opentelemetry-exporter-otlp-proto-grpc>=1.2.0 in /Users/jonathan_yarkoni/Projects/langchain-academy/lc-academy-env/lib/python3.13/site-packages (from chromadb) (1.35.0)\n",
            "Requirement already satisfied: opentelemetry-sdk>=1.2.0 in /Users/jonathan_yarkoni/Projects/langchain-academy/lc-academy-env/lib/python3.13/site-packages (from chromadb) (1.35.0)\n",
            "Requirement already satisfied: tokenizers>=0.13.2 in /Users/jonathan_yarkoni/Projects/langchain-academy/lc-academy-env/lib/python3.13/site-packages (from chromadb) (0.21.2)\n",
            "Requirement already satisfied: pypika>=0.48.9 in /Users/jonathan_yarkoni/Projects/langchain-academy/lc-academy-env/lib/python3.13/site-packages (from chromadb) (0.48.9)\n",
            "Requirement already satisfied: overrides>=7.3.1 in /Users/jonathan_yarkoni/Projects/langchain-academy/lc-academy-env/lib/python3.13/site-packages (from chromadb) (7.7.0)\n",
            "Requirement already satisfied: importlib-resources in /Users/jonathan_yarkoni/Projects/langchain-academy/lc-academy-env/lib/python3.13/site-packages (from chromadb) (6.5.2)\n",
            "Requirement already satisfied: grpcio>=1.58.0 in /Users/jonathan_yarkoni/Projects/langchain-academy/lc-academy-env/lib/python3.13/site-packages (from chromadb) (1.73.1)\n",
            "Requirement already satisfied: bcrypt>=4.0.1 in /Users/jonathan_yarkoni/Projects/langchain-academy/lc-academy-env/lib/python3.13/site-packages (from chromadb) (4.3.0)\n",
            "Requirement already satisfied: typer>=0.9.0 in /Users/jonathan_yarkoni/Projects/langchain-academy/lc-academy-env/lib/python3.13/site-packages (from chromadb) (0.16.0)\n",
            "Requirement already satisfied: kubernetes>=28.1.0 in /Users/jonathan_yarkoni/Projects/langchain-academy/lc-academy-env/lib/python3.13/site-packages (from chromadb) (33.1.0)\n",
            "Requirement already satisfied: mmh3>=4.0.1 in /Users/jonathan_yarkoni/Projects/langchain-academy/lc-academy-env/lib/python3.13/site-packages (from chromadb) (5.1.0)\n",
            "Requirement already satisfied: orjson>=3.9.12 in /Users/jonathan_yarkoni/Projects/langchain-academy/lc-academy-env/lib/python3.13/site-packages (from chromadb) (3.11.0)\n",
            "Requirement already satisfied: rich>=10.11.0 in /Users/jonathan_yarkoni/Projects/langchain-academy/lc-academy-env/lib/python3.13/site-packages (from chromadb) (14.0.0)\n",
            "Requirement already satisfied: jsonschema>=4.19.0 in /Users/jonathan_yarkoni/Projects/langchain-academy/lc-academy-env/lib/python3.13/site-packages (from chromadb) (4.25.0)\n",
            "Requirement already satisfied: six>=1.5 in /Users/jonathan_yarkoni/Projects/langchain-academy/lc-academy-env/lib/python3.13/site-packages (from posthog<6.0.0,>=2.4.0->chromadb) (1.17.0)\n",
            "Requirement already satisfied: python-dateutil>=2.2 in /Users/jonathan_yarkoni/Projects/langchain-academy/lc-academy-env/lib/python3.13/site-packages (from posthog<6.0.0,>=2.4.0->chromadb) (2.9.0.post0)\n",
            "Requirement already satisfied: backoff>=1.10.0 in /Users/jonathan_yarkoni/Projects/langchain-academy/lc-academy-env/lib/python3.13/site-packages (from posthog<6.0.0,>=2.4.0->chromadb) (2.2.1)\n",
            "Requirement already satisfied: pyproject_hooks in /Users/jonathan_yarkoni/Projects/langchain-academy/lc-academy-env/lib/python3.13/site-packages (from build>=1.0.3->chromadb) (1.2.0)\n",
            "Requirement already satisfied: attrs>=22.2.0 in /Users/jonathan_yarkoni/Projects/langchain-academy/lc-academy-env/lib/python3.13/site-packages (from jsonschema>=4.19.0->chromadb) (25.3.0)\n",
            "Requirement already satisfied: jsonschema-specifications>=2023.03.6 in /Users/jonathan_yarkoni/Projects/langchain-academy/lc-academy-env/lib/python3.13/site-packages (from jsonschema>=4.19.0->chromadb) (2025.4.1)\n",
            "Requirement already satisfied: referencing>=0.28.4 in /Users/jonathan_yarkoni/Projects/langchain-academy/lc-academy-env/lib/python3.13/site-packages (from jsonschema>=4.19.0->chromadb) (0.36.2)\n",
            "Requirement already satisfied: rpds-py>=0.7.1 in /Users/jonathan_yarkoni/Projects/langchain-academy/lc-academy-env/lib/python3.13/site-packages (from jsonschema>=4.19.0->chromadb) (0.26.0)\n",
            "Requirement already satisfied: google-auth>=1.0.1 in /Users/jonathan_yarkoni/Projects/langchain-academy/lc-academy-env/lib/python3.13/site-packages (from kubernetes>=28.1.0->chromadb) (2.40.3)\n",
            "Requirement already satisfied: websocket-client!=0.40.0,!=0.41.*,!=0.42.*,>=0.32.0 in /Users/jonathan_yarkoni/Projects/langchain-academy/lc-academy-env/lib/python3.13/site-packages (from kubernetes>=28.1.0->chromadb) (1.8.0)\n",
            "Requirement already satisfied: requests-oauthlib in /Users/jonathan_yarkoni/Projects/langchain-academy/lc-academy-env/lib/python3.13/site-packages (from kubernetes>=28.1.0->chromadb) (2.0.0)\n",
            "Requirement already satisfied: oauthlib>=3.2.2 in /Users/jonathan_yarkoni/Projects/langchain-academy/lc-academy-env/lib/python3.13/site-packages (from kubernetes>=28.1.0->chromadb) (3.3.1)\n",
            "Requirement already satisfied: durationpy>=0.7 in /Users/jonathan_yarkoni/Projects/langchain-academy/lc-academy-env/lib/python3.13/site-packages (from kubernetes>=28.1.0->chromadb) (0.10)\n",
            "Requirement already satisfied: cachetools<6.0,>=2.0.0 in /Users/jonathan_yarkoni/Projects/langchain-academy/lc-academy-env/lib/python3.13/site-packages (from google-auth>=1.0.1->kubernetes>=28.1.0->chromadb) (5.5.2)\n",
            "Requirement already satisfied: pyasn1-modules>=0.2.1 in /Users/jonathan_yarkoni/Projects/langchain-academy/lc-academy-env/lib/python3.13/site-packages (from google-auth>=1.0.1->kubernetes>=28.1.0->chromadb) (0.4.2)\n",
            "Requirement already satisfied: rsa<5,>=3.1.4 in /Users/jonathan_yarkoni/Projects/langchain-academy/lc-academy-env/lib/python3.13/site-packages (from google-auth>=1.0.1->kubernetes>=28.1.0->chromadb) (4.9.1)\n",
            "Requirement already satisfied: pyasn1>=0.1.3 in /Users/jonathan_yarkoni/Projects/langchain-academy/lc-academy-env/lib/python3.13/site-packages (from rsa<5,>=3.1.4->google-auth>=1.0.1->kubernetes>=28.1.0->chromadb) (0.6.1)\n",
            "Requirement already satisfied: requests-toolbelt<2.0.0,>=1.0.0 in /Users/jonathan_yarkoni/Projects/langchain-academy/lc-academy-env/lib/python3.13/site-packages (from langsmith>=0.1.17->langchain) (1.0.0)\n",
            "Requirement already satisfied: zstandard<0.24.0,>=0.23.0 in /Users/jonathan_yarkoni/Projects/langchain-academy/lc-academy-env/lib/python3.13/site-packages (from langsmith>=0.1.17->langchain) (0.23.0)\n",
            "Requirement already satisfied: coloredlogs in /Users/jonathan_yarkoni/Projects/langchain-academy/lc-academy-env/lib/python3.13/site-packages (from onnxruntime>=1.14.1->chromadb) (15.0.1)\n",
            "Requirement already satisfied: flatbuffers in /Users/jonathan_yarkoni/Projects/langchain-academy/lc-academy-env/lib/python3.13/site-packages (from onnxruntime>=1.14.1->chromadb) (25.2.10)\n",
            "Requirement already satisfied: protobuf in /Users/jonathan_yarkoni/Projects/langchain-academy/lc-academy-env/lib/python3.13/site-packages (from onnxruntime>=1.14.1->chromadb) (6.31.1)\n",
            "Requirement already satisfied: sympy in /Users/jonathan_yarkoni/Projects/langchain-academy/lc-academy-env/lib/python3.13/site-packages (from onnxruntime>=1.14.1->chromadb) (1.14.0)\n",
            "Requirement already satisfied: importlib-metadata<8.8.0,>=6.0 in /Users/jonathan_yarkoni/Projects/langchain-academy/lc-academy-env/lib/python3.13/site-packages (from opentelemetry-api>=1.2.0->chromadb) (8.7.0)\n",
            "Requirement already satisfied: zipp>=3.20 in /Users/jonathan_yarkoni/Projects/langchain-academy/lc-academy-env/lib/python3.13/site-packages (from importlib-metadata<8.8.0,>=6.0->opentelemetry-api>=1.2.0->chromadb) (3.23.0)\n",
            "Requirement already satisfied: googleapis-common-protos~=1.57 in /Users/jonathan_yarkoni/Projects/langchain-academy/lc-academy-env/lib/python3.13/site-packages (from opentelemetry-exporter-otlp-proto-grpc>=1.2.0->chromadb) (1.70.0)\n",
            "Requirement already satisfied: opentelemetry-exporter-otlp-proto-common==1.35.0 in /Users/jonathan_yarkoni/Projects/langchain-academy/lc-academy-env/lib/python3.13/site-packages (from opentelemetry-exporter-otlp-proto-grpc>=1.2.0->chromadb) (1.35.0)\n",
            "Requirement already satisfied: opentelemetry-proto==1.35.0 in /Users/jonathan_yarkoni/Projects/langchain-academy/lc-academy-env/lib/python3.13/site-packages (from opentelemetry-exporter-otlp-proto-grpc>=1.2.0->chromadb) (1.35.0)\n",
            "Requirement already satisfied: opentelemetry-semantic-conventions==0.56b0 in /Users/jonathan_yarkoni/Projects/langchain-academy/lc-academy-env/lib/python3.13/site-packages (from opentelemetry-sdk>=1.2.0->chromadb) (0.56b0)\n",
            "Requirement already satisfied: markdown-it-py>=2.2.0 in /Users/jonathan_yarkoni/Projects/langchain-academy/lc-academy-env/lib/python3.13/site-packages (from rich>=10.11.0->chromadb) (3.0.0)\n",
            "Requirement already satisfied: pygments<3.0.0,>=2.13.0 in /Users/jonathan_yarkoni/Projects/langchain-academy/lc-academy-env/lib/python3.13/site-packages (from rich>=10.11.0->chromadb) (2.19.2)\n",
            "Requirement already satisfied: mdurl~=0.1 in /Users/jonathan_yarkoni/Projects/langchain-academy/lc-academy-env/lib/python3.13/site-packages (from markdown-it-py>=2.2.0->rich>=10.11.0->chromadb) (0.1.2)\n",
            "Requirement already satisfied: huggingface-hub<1.0,>=0.16.4 in /Users/jonathan_yarkoni/Projects/langchain-academy/lc-academy-env/lib/python3.13/site-packages (from tokenizers>=0.13.2->chromadb) (0.33.4)\n",
            "Requirement already satisfied: filelock in /Users/jonathan_yarkoni/Projects/langchain-academy/lc-academy-env/lib/python3.13/site-packages (from huggingface-hub<1.0,>=0.16.4->tokenizers>=0.13.2->chromadb) (3.18.0)\n",
            "Requirement already satisfied: fsspec>=2023.5.0 in /Users/jonathan_yarkoni/Projects/langchain-academy/lc-academy-env/lib/python3.13/site-packages (from huggingface-hub<1.0,>=0.16.4->tokenizers>=0.13.2->chromadb) (2025.7.0)\n",
            "Requirement already satisfied: hf-xet<2.0.0,>=1.1.2 in /Users/jonathan_yarkoni/Projects/langchain-academy/lc-academy-env/lib/python3.13/site-packages (from huggingface-hub<1.0,>=0.16.4->tokenizers>=0.13.2->chromadb) (1.1.5)\n",
            "Requirement already satisfied: click>=8.0.0 in /Users/jonathan_yarkoni/Projects/langchain-academy/lc-academy-env/lib/python3.13/site-packages (from typer>=0.9.0->chromadb) (8.2.1)\n",
            "Requirement already satisfied: shellingham>=1.3.0 in /Users/jonathan_yarkoni/Projects/langchain-academy/lc-academy-env/lib/python3.13/site-packages (from typer>=0.9.0->chromadb) (1.5.4)\n",
            "Requirement already satisfied: httptools>=0.6.3 in /Users/jonathan_yarkoni/Projects/langchain-academy/lc-academy-env/lib/python3.13/site-packages (from uvicorn[standard]>=0.18.3->chromadb) (0.6.4)\n",
            "Requirement already satisfied: python-dotenv>=0.13 in /Users/jonathan_yarkoni/Projects/langchain-academy/lc-academy-env/lib/python3.13/site-packages (from uvicorn[standard]>=0.18.3->chromadb) (1.1.1)\n",
            "Requirement already satisfied: uvloop>=0.15.1 in /Users/jonathan_yarkoni/Projects/langchain-academy/lc-academy-env/lib/python3.13/site-packages (from uvicorn[standard]>=0.18.3->chromadb) (0.21.0)\n",
            "Requirement already satisfied: watchfiles>=0.13 in /Users/jonathan_yarkoni/Projects/langchain-academy/lc-academy-env/lib/python3.13/site-packages (from uvicorn[standard]>=0.18.3->chromadb) (1.1.0)\n",
            "Requirement already satisfied: websockets>=10.4 in /Users/jonathan_yarkoni/Projects/langchain-academy/lc-academy-env/lib/python3.13/site-packages (from uvicorn[standard]>=0.18.3->chromadb) (15.0.1)\n",
            "Requirement already satisfied: humanfriendly>=9.1 in /Users/jonathan_yarkoni/Projects/langchain-academy/lc-academy-env/lib/python3.13/site-packages (from coloredlogs->onnxruntime>=1.14.1->chromadb) (10.0)\n",
            "Requirement already satisfied: mpmath<1.4,>=1.1.0 in /Users/jonathan_yarkoni/Projects/langchain-academy/lc-academy-env/lib/python3.13/site-packages (from sympy->onnxruntime>=1.14.1->chromadb) (1.3.0)\n",
            "Note: you may need to restart the kernel to use updated packages.\n"
          ]
        }
      ],
      "source": [
        "# Install required packages\n",
        "%pip install langchain langchain-openai chromadb tiktoken"
      ]
    },
    {
      "cell_type": "code",
      "execution_count": 2,
      "metadata": {},
      "outputs": [],
      "source": [
        "# Import necessary libraries\n",
        "from langchain_openai import OpenAIEmbeddings, ChatOpenAI\n",
        "from langchain_community.document_loaders import TextLoader\n",
        "from langchain.text_splitter import RecursiveCharacterTextSplitter\n",
        "from langchain_community.vectorstores import Chroma\n",
        "from langchain.chains import RetrievalQA\n",
        "from langchain.prompts import PromptTemplate\n",
        "import os\n",
        "\n",
        "# Load environment variables from .env file\n",
        "from dotenv import load_dotenv\n",
        "load_dotenv()  # This will load variables from a .env file into the environment\n",
        "\n",
        "# Get your OpenAI API key from the environment\n",
        "openai_api_key = os.getenv(\"OPENAI_API_KEY\")\n",
        "if not openai_api_key:\n",
        "    raise ValueError(\"OPENAI_API_KEY not found in environment. Please set it in your .env file.\")\n"
      ]
    },
    {
      "cell_type": "markdown",
      "metadata": {
        "vscode": {
          "languageId": "raw"
        }
      },
      "source": [
        "## 1. Loading and Processing Documents\n",
        "\n",
        "First, let's create a sample document and load it using LangChain's document loader. Then, we'll split it into smaller chunks for better processing.\n"
      ]
    },
    {
      "cell_type": "code",
      "execution_count": 3,
      "metadata": {},
      "outputs": [
        {
          "name": "stdout",
          "output_type": "stream",
          "text": [
            "Split the document into 6 chunks\n"
          ]
        }
      ],
      "source": [
        "# Create a sample document\n",
        "with open(\"sample_doc.txt\", \"w\") as f:\n",
        "    f.write(\"\"\"\n",
        "Artificial Intelligence (AI) is revolutionizing various industries. Machine learning, a subset of AI, \n",
        "enables computers to learn from data without being explicitly programmed. Deep learning, a type of \n",
        "machine learning, uses neural networks with multiple layers to process complex patterns.\n",
        "\n",
        "Natural Language Processing (NLP) is another important field in AI. It focuses on enabling computers \n",
        "to understand, interpret, and generate human language. Applications of NLP include machine translation, \n",
        "sentiment analysis, and chatbots.\n",
        "\n",
        "Computer Vision is the field of AI that enables computers to understand and process visual information \n",
        "from the world. It has applications in facial recognition, autonomous vehicles, and medical imaging.\n",
        "\"\"\")\n",
        "\n",
        "# Load the document\n",
        "loader = TextLoader(\"sample_doc.txt\")\n",
        "documents = loader.load()\n",
        "\n",
        "# Split the document into chunks\n",
        "text_splitter = RecursiveCharacterTextSplitter(\n",
        "    chunk_size=200,\n",
        "    chunk_overlap=50,\n",
        "    length_function=len,\n",
        ")\n",
        "splits = text_splitter.split_documents(documents)\n",
        "\n",
        "print(f\"Split the document into {len(splits)} chunks\")\n"
      ]
    },
    {
      "cell_type": "markdown",
      "metadata": {
        "vscode": {
          "languageId": "raw"
        }
      },
      "source": [
        "## 2. Creating Vector Embeddings and Setting up Vector Store\n",
        "\n",
        "Now we'll create embeddings for our document chunks and store them in a vector store. We'll use OpenAI's embeddings and Chroma as our vector store.\n"
      ]
    },
    {
      "cell_type": "code",
      "execution_count": 5,
      "metadata": {},
      "outputs": [
        {
          "name": "stderr",
          "output_type": "stream",
          "text": [
            "/var/folders/8f/dgssdpz9545_n281yydw509h0000gn/T/ipykernel_36778/2896341674.py:12: LangChainDeprecationWarning: Since Chroma 0.4.x the manual persistence method is no longer supported as docs are automatically persisted.\n",
            "  vectorstore.persist()\n"
          ]
        }
      ],
      "source": [
        "# Initialize the embeddings\n",
        "embeddings = OpenAIEmbeddings()\n",
        "\n",
        "# Create a vector store\n",
        "vectorstore = Chroma.from_documents(\n",
        "    documents=splits,\n",
        "    embedding=embeddings,\n",
        "    persist_directory=\"chroma_db\"\n",
        ")\n",
        "\n",
        "# Persist the vector store\n",
        "vectorstore.persist()\n"
      ]
    },
    {
      "cell_type": "markdown",
      "metadata": {
        "vscode": {
          "languageId": "raw"
        }
      },
      "source": [
        "## 3. Setting up the Retrieval Chain\n",
        "\n",
        "Now we'll create a retrieval chain that will:\n",
        "1. Take a question\n",
        "2. Find relevant documents using similarity search\n",
        "3. Use the retrieved documents as context to generate an answer\n"
      ]
    },
    {
      "cell_type": "code",
      "execution_count": 6,
      "metadata": {},
      "outputs": [],
      "source": [
        "# Create a custom prompt template\n",
        "prompt_template = \"\"\"Use the following pieces of context to answer the question at the end. \n",
        "If you don't know the answer, just say that you don't know, don't try to make up an answer.\n",
        "\n",
        "Context: {context}\n",
        "\n",
        "Question: {question}\n",
        "\n",
        "Answer:\"\"\"\n",
        "\n",
        "PROMPT = PromptTemplate(\n",
        "    template=prompt_template,\n",
        "    input_variables=[\"context\", \"question\"]\n",
        ")\n",
        "\n",
        "# Initialize the LLM\n",
        "llm = ChatOpenAI(model_name=\"gpt-3.5-turbo\", temperature=0)\n",
        "\n",
        "# Create the retrieval chain\n",
        "qa_chain = RetrievalQA.from_chain_type(\n",
        "    llm=llm,\n",
        "    chain_type=\"stuff\",\n",
        "    retriever=vectorstore.as_retriever(search_kwargs={\"k\": 2}),\n",
        "    chain_type_kwargs={\"prompt\": PROMPT},\n",
        "    return_source_documents=True\n",
        ")\n"
      ]
    },
    {
      "cell_type": "markdown",
      "metadata": {
        "vscode": {
          "languageId": "raw"
        }
      },
      "source": [
        "## 4. Testing the RAG System\n",
        "\n",
        "Let's test our RAG system with some questions about the content in our document.\n"
      ]
    },
    {
      "cell_type": "code",
      "execution_count": 7,
      "metadata": {},
      "outputs": [
        {
          "name": "stderr",
          "output_type": "stream",
          "text": [
            "/var/folders/8f/dgssdpz9545_n281yydw509h0000gn/T/ipykernel_36778/1887299745.py:3: LangChainDeprecationWarning: The method `Chain.__call__` was deprecated in langchain 0.1.0 and will be removed in 1.0. Use :meth:`~invoke` instead.\n",
            "  result = qa_chain({\"query\": question})\n"
          ]
        },
        {
          "name": "stdout",
          "output_type": "stream",
          "text": [
            "\n",
            "Question: What is machine learning and how does it relate to AI?\n",
            "\n",
            "Answer: Machine learning is a subset of artificial intelligence that enables computers to learn from data without being explicitly programmed. It relates to AI by providing the technology and algorithms that allow machines to learn and improve their performance on tasks without human intervention.\n",
            "\n",
            "Source Documents:\n",
            "\n",
            "Document 1:\n",
            "Artificial Intelligence (AI) is revolutionizing various industries. Machine learning, a subset of AI,\n",
            "\n",
            "Document 2:\n",
            "enables computers to learn from data without being explicitly programmed. Deep learning, a type of \n",
            "machine learning, uses neural networks with multiple layers to process complex patterns.\n",
            "\n",
            "================================================================================\n",
            "\n",
            "\n",
            "Question: What are the applications of Computer Vision?\n",
            "\n",
            "Answer: The applications of Computer Vision include facial recognition, autonomous vehicles, and medical imaging.\n",
            "\n",
            "Source Documents:\n",
            "\n",
            "Document 1:\n",
            "Computer Vision is the field of AI that enables computers to understand and process visual information\n",
            "\n",
            "Document 2:\n",
            "from the world. It has applications in facial recognition, autonomous vehicles, and medical imaging.\n",
            "\n",
            "================================================================================\n",
            "\n",
            "\n",
            "Question: What is NLP used for?\n",
            "\n",
            "Answer: NLP is used for understanding, interpreting, and generating human language.\n",
            "\n",
            "Source Documents:\n",
            "\n",
            "Document 1:\n",
            "to understand, interpret, and generate human language. Applications of NLP include machine translation, \n",
            "sentiment analysis, and chatbots.\n",
            "\n",
            "Document 2:\n",
            "Natural Language Processing (NLP) is another important field in AI. It focuses on enabling computers\n",
            "\n",
            "================================================================================\n",
            "\n"
          ]
        }
      ],
      "source": [
        "# Function to ask questions and display results\n",
        "def ask_question(question):\n",
        "    result = qa_chain({\"query\": question})\n",
        "    print(f\"\\nQuestion: {question}\")\n",
        "    print(f\"\\nAnswer: {result['result']}\")\n",
        "    print(\"\\nSource Documents:\")\n",
        "    for i, doc in enumerate(result[\"source_documents\"]):\n",
        "        print(f\"\\nDocument {i+1}:\")\n",
        "        print(doc.page_content)\n",
        "\n",
        "# Test with some questions\n",
        "questions = [\n",
        "    \"What is machine learning and how does it relate to AI?\",\n",
        "    \"What are the applications of Computer Vision?\",\n",
        "    \"What is NLP used for?\"\n",
        "]\n",
        "\n",
        "for question in questions:\n",
        "    ask_question(question)\n",
        "    print(\"\\n\" + \"=\"*80 + \"\\n\")\n"
      ]
    },
    {
      "cell_type": "markdown",
      "metadata": {
        "vscode": {
          "languageId": "raw"
        }
      },
      "source": [
        "## Cleanup\n",
        "\n",
        "Let's clean up our temporary files and database.\n"
      ]
    },
    {
      "cell_type": "code",
      "execution_count": 8,
      "metadata": {},
      "outputs": [
        {
          "name": "stdout",
          "output_type": "stream",
          "text": [
            "Cleanup completed!\n"
          ]
        }
      ],
      "source": [
        "import shutil\n",
        "import os\n",
        "\n",
        "# Remove the sample document\n",
        "if os.path.exists(\"sample_doc.txt\"):\n",
        "    os.remove(\"sample_doc.txt\")\n",
        "\n",
        "# Remove the Chroma database\n",
        "if os.path.exists(\"chroma_db\"):\n",
        "    shutil.rmtree(\"chroma_db\")\n",
        "\n",
        "print(\"Cleanup completed!\")\n"
      ]
    }
  ],
  "metadata": {
    "kernelspec": {
      "display_name": "lc-academy-env",
      "language": "python",
      "name": "python3"
    },
    "language_info": {
      "codemirror_mode": {
        "name": "ipython",
        "version": 3
      },
      "file_extension": ".py",
      "mimetype": "text/x-python",
      "name": "python",
      "nbconvert_exporter": "python",
      "pygments_lexer": "ipython3",
      "version": "3.13.5"
    }
  },
  "nbformat": 4,
  "nbformat_minor": 2
}
