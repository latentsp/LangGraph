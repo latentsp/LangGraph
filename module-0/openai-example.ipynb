{
  "cells": [
    {
      "cell_type": "markdown",
      "metadata": {
        "vscode": {
          "languageId": "raw"
        }
      },
      "source": [
        "# OpenAI and LangChain Integration Example\n",
        "\n",
        "This notebook demonstrates how to use LangChain with OpenAI's API. We'll show:\n",
        "1. Setting up the OpenAI client\n",
        "2. Making a simple completion request\n",
        "3. Using LangChain's chat models\n",
        "4. Creating a simple chain\n",
        "\n",
        "**Note:** You'll need to set your OpenAI API key as an environment variable `OPENAI_API_KEY` to run this notebook.\n"
      ]
    },
    {
      "cell_type": "code",
      "execution_count": 3,
      "metadata": {},
      "outputs": [],
      "source": [
        "import os\n",
        "# Load environment variables from .env file\n",
        "from dotenv import load_dotenv\n",
        "load_dotenv()  # This will load variables from a .env file into the environment\n",
        "\n",
        "# Get your OpenAI API key from the environment\n",
        "openai_api_key = os.getenv(\"OPENAI_API_KEY\")\n",
        "if not openai_api_key:\n",
        "    raise ValueError(\"OPENAI_API_KEY not found in environment. Please set it in your .env file.\")\n"
      ]
    },
    {
      "cell_type": "code",
      "execution_count": 4,
      "metadata": {},
      "outputs": [],
      "source": [
        "from langchain_openai import ChatOpenAI\n",
        "from langchain_core.prompts import ChatPromptTemplate\n",
        "from langchain_core.output_parsers import StrOutputParser\n",
        "\n",
        "# Initialize the ChatOpenAI model\n",
        "model = ChatOpenAI(\n",
        "    model=\"gpt-3.5-turbo\",  # You can change this to \"gpt-4\" if you have access\n",
        "    temperature=0.7\n",
        ")\n"
      ]
    },
    {
      "cell_type": "code",
      "execution_count": 5,
      "metadata": {},
      "outputs": [
        {
          "name": "stdout",
          "output_type": "stream",
          "text": [
            "The three main components of LangChain are Language Engine, Data Manager, and Application Interface.\n"
          ]
        }
      ],
      "source": [
        "# Create a simple prompt template\n",
        "prompt = ChatPromptTemplate.from_messages([\n",
        "    (\"system\", \"You are a helpful assistant that provides concise responses.\"),\n",
        "    (\"user\", \"{input}\")\n",
        "])\n",
        "\n",
        "# Create a simple chain\n",
        "chain = prompt | model | StrOutputParser()\n",
        "\n",
        "# Test the chain\n",
        "response = chain.invoke({\"input\": \"What are the three main components of LangChain?\"})\n",
        "print(response)\n"
      ]
    },
    {
      "cell_type": "code",
      "execution_count": 6,
      "metadata": {},
      "outputs": [
        {
          "name": "stdout",
          "output_type": "stream",
          "text": [
            "An LLM, or Master of Laws, is a postgraduate degree typically pursued by individuals who have already completed their JD or equivalent law degree. It allows students to specialize in a particular area of law, such as tax law or international law. The program usually involves coursework, research, and the completion of a thesis or dissertation.\n"
          ]
        }
      ],
      "source": [
        "# Example of streaming responses\n",
        "async def do_stream():\n",
        "    async for chunk in chain.astream({\"input\": \"Explain what an LLM is in exactly 3 sentences.\"}):\n",
        "        print(chunk, end=\"\", flush=True)\n",
        "    print()  # New line at the end\n",
        "\n",
        "# Run the streaming example\n",
        "import asyncio\n",
        "await do_stream()\n"
      ]
    },
    {
      "cell_type": "code",
      "execution_count": 7,
      "metadata": {},
      "outputs": [
        {
          "name": "stdout",
          "output_type": "stream",
          "text": [
            "CV Evaluation:\n",
            "\n",
            "Ranking: 3\n",
            "\n",
            "Explanation:\n",
            "This CV is strong and stands out due to the candidate's impressive education, experience at top tech companies like Google and Microsoft, significant accomplishments, and a diverse set of technical skills. The candidate's leadership experience, project management skills, and proficiency in various programming languages make them a highly qualified candidate. Overall, this CV demonstrates a strong background in computer science and software engineering, making it a top contender for relevant positions.\n"
          ]
        }
      ],
      "source": [
        "# Create a specialized prompt for CV ranking\n",
        "cv_prompt = ChatPromptTemplate.from_messages([\n",
        "    (\"system\", \"\"\"You are a professional CV evaluator. Rank CVs on a scale of 1-3:\n",
        "    1 = Weak (Significant improvements needed)\n",
        "    2 = Neutral (Meets basic requirements)\n",
        "    3 = Strong (Exceptional qualifications)\n",
        "    \n",
        "    Provide your ranking followed by a brief explanation.\"\"\"),\n",
        "    (\"user\", \"\"\"Please evaluate this CV:\n",
        "    {cv_content}\"\"\")\n",
        "])\n",
        "\n",
        "# Create a CV evaluation chain\n",
        "cv_chain = cv_prompt | model | StrOutputParser()\n",
        "\n",
        "# Example CV to test\n",
        "sample_cv = \"\"\"\n",
        "Education:\n",
        "- Master's in Computer Science from Stanford University (GPA: 3.9)\n",
        "- Bachelor's in Software Engineering from MIT\n",
        "\n",
        "Experience:\n",
        "- Senior Software Engineer at Google (3 years)\n",
        "  - Led team of 5 engineers on Cloud Platform projects\n",
        "  - Improved system performance by 40%\n",
        "  \n",
        "- Software Developer at Microsoft (2 years)\n",
        "  - Developed features for Office 365\n",
        "  - Mentored 3 junior developers\n",
        "\n",
        "Skills:\n",
        "- Python, Java, C++, JavaScript\n",
        "- Machine Learning, Cloud Computing\n",
        "- Team Leadership, Project Management\n",
        "\"\"\"\n",
        "\n",
        "# Get the evaluation\n",
        "response = cv_chain.invoke({\"cv_content\": sample_cv})\n",
        "print(\"CV Evaluation:\\n\")\n",
        "print(response)\n"
      ]
    }
  ],
  "metadata": {
    "kernelspec": {
      "display_name": "lc-academy-env",
      "language": "python",
      "name": "python3"
    },
    "language_info": {
      "codemirror_mode": {
        "name": "ipython",
        "version": 3
      },
      "file_extension": ".py",
      "mimetype": "text/x-python",
      "name": "python",
      "nbconvert_exporter": "python",
      "pygments_lexer": "ipython3",
      "version": "3.13.5"
    }
  },
  "nbformat": 4,
  "nbformat_minor": 2
}
