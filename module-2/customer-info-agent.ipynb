{
 "cells": [
  {
   "cell_type": "raw",
   "metadata": {
    "vscode": {
     "languageId": "raw"
    }
   },
   "source": [
    "[![Open in Colab](https://colab.research.google.com/assets/colab-badge.svg)](https://colab.research.google.com/github/langchain-ai/langchain-academy/blob/main/module-2/customer-info-agent.ipynb) [![Open in LangChain Academy](https://cdn.prod.website-files.com/65b8cd72835ceeacd4449a53/66e9eba12c7b7688aa3dbb5e_LCA-badge-green.svg)](https://academy.langchain.com/courses/take/intro-to-langgraph/lessons/58239426-lesson-1-state-schema)\n"
   ]
  },
  {
   "cell_type": "raw",
   "metadata": {
    "vscode": {
     "languageId": "raw"
    }
   },
   "source": [
    "# Customer Information Collection Agent\n",
    "\n",
    "## Overview\n",
    "\n",
    "This notebook demonstrates a LangGraph agent that collects specific information from customers:\n",
    "\n",
    "* **Budget** - The customer's project budget\n",
    "* **Project Title** - The name/title of the project\n",
    "\n",
    "The agent will continue asking predefined questions until both pieces of information are collected.\n",
    "\n",
    "## Goals\n",
    "\n",
    "- Build a state-driven agent that tracks missing information\n",
    "- Implement conditional logic to determine when to ask questions vs. complete\n",
    "- Demonstrate how to loop until all required information is collected\n"
   ]
  },
  {
   "cell_type": "code",
   "execution_count": 1,
   "metadata": {},
   "outputs": [],
   "source": [
    "%%capture --no-stderr\n",
    "%pip install --quiet -U langgraph\n"
   ]
  },
  {
   "cell_type": "raw",
   "metadata": {
    "vscode": {
     "languageId": "raw"
    }
   },
   "source": [
    "## State Schema\n",
    "\n",
    "We'll use a TypedDict to define our state schema with optional fields for budget and project title.\n",
    "\n",
    "We'll also track messages to show the conversation flow.\n"
   ]
  },
  {
   "cell_type": "code",
   "execution_count": 2,
   "metadata": {},
   "outputs": [],
   "source": [
    "from typing import Optional, List, Literal\n",
    "from typing_extensions import TypedDict\n",
    "from IPython.display import Image, display\n",
    "from langgraph.graph import StateGraph, START, END\n",
    "\n",
    "class CustomerInfoState(TypedDict):\n",
    "    budget: Optional[str]\n",
    "    project_title: Optional[str]\n",
    "    messages: List[str]\n",
    "    interaction_count: int\n"
   ]
  },
  {
   "cell_type": "raw",
   "metadata": {
    "vscode": {
     "languageId": "raw"
    }
   },
   "source": [
    "## Agent Nodes\n",
    "\n",
    "Now let's define the nodes for our agent:\n",
    "\n",
    "1. **check_info_complete()** - Determines if we have all required information\n",
    "2. **ask_questions()** - Asks for missing information \n",
    "3. **collect_info()** - Simulates collecting user responses\n",
    "4. **complete()** - Final node when all information is collected\n"
   ]
  },
  {
   "cell_type": "code",
   "execution_count": 3,
   "metadata": {},
   "outputs": [],
   "source": [
    "def check_info_complete():\n",
    "    \"\"\"Check if we have all required information\"\"\"\n",
    "    def _check(state: CustomerInfoState) -> str:\n",
    "        print(\"---Checking Information Completeness---\")\n",
    "        \n",
    "        has_budget = state.get('budget') is not None and state.get('budget').strip() != \"\"\n",
    "        has_project_title = state.get('project_title') is not None and state.get('project_title').strip() != \"\"\n",
    "        \n",
    "        messages = state.get('messages', [])\n",
    "        \n",
    "        if has_budget and has_project_title:\n",
    "            print(f\"✅ All information collected!\")\n",
    "            print(f\"   Budget: {state['budget']}\")\n",
    "            print(f\"   Project Title: {state['project_title']}\")\n",
    "            return \"complete\"\n",
    "        else:\n",
    "            missing = []\n",
    "            if not has_budget:\n",
    "                missing.append(\"budget\")\n",
    "            if not has_project_title:\n",
    "                missing.append(\"project title\")\n",
    "            print(f\"❌ Missing: {', '.join(missing)}\")\n",
    "            return \"ask_questions\"\n",
    "    \n",
    "    return _check\n",
    "\n",
    "def ask_questions():\n",
    "    \"\"\"Ask predefined questions for missing information\"\"\"\n",
    "    def _ask(state: CustomerInfoState) -> dict:\n",
    "        print(\"---Asking Questions---\")\n",
    "        \n",
    "        messages = state.get('messages', [])\n",
    "        interaction_count = state.get('interaction_count', 0) + 1\n",
    "        \n",
    "        # Predefined questions\n",
    "        questions = []\n",
    "        \n",
    "        if not state.get('budget') or state.get('budget').strip() == \"\":\n",
    "            questions.append(\"💰 What is your budget for this project?\")\n",
    "        \n",
    "        if not state.get('project_title') or state.get('project_title').strip() == \"\":\n",
    "            questions.append(\"📋 What is the title/name of your project?\")\n",
    "        \n",
    "        question_text = \"\\n\".join([f\"{i+1}. {q}\" for i, q in enumerate(questions)])\n",
    "        \n",
    "        if interaction_count == 1:\n",
    "            greeting = \"Hello! I need to collect some information about your project.\"\n",
    "        else:\n",
    "            greeting = \"I still need some additional information.\"\n",
    "            \n",
    "        full_message = f\"{greeting}\\n\\n{question_text}\"\n",
    "        \n",
    "        print(full_message)\n",
    "        messages.append(full_message)\n",
    "        \n",
    "        return {\n",
    "            \"messages\": messages,\n",
    "            \"interaction_count\": interaction_count\n",
    "        }\n",
    "    \n",
    "    return _ask\n",
    "\n",
    "def collect_info():\n",
    "    \"\"\"Simulate collecting information from user (in real app, this would be user input)\"\"\"\n",
    "    def _collect(state: CustomerInfoState) -> dict:\n",
    "        print(\"---Collecting User Response---\")\n",
    "        \n",
    "        # Simulate user responses based on interaction count\n",
    "        # In a real application, this would come from user input\n",
    "        interaction_count = state.get('interaction_count', 0)\n",
    "        \n",
    "        if interaction_count == 1:\n",
    "            # First interaction - provide both answers\n",
    "            simulated_budget = \"$50,000\"\n",
    "            simulated_project_title = \"E-commerce Website Redesign\"\n",
    "            print(f\"User provided: Budget='{simulated_budget}', Project Title='{simulated_project_title}'\")\n",
    "            return {\n",
    "                \"budget\": simulated_budget,\n",
    "                \"project_title\": simulated_project_title\n",
    "            }\n",
    "        elif interaction_count == 2:\n",
    "            # Second interaction - provide missing info (if any)\n",
    "            updates = {}\n",
    "            if not state.get('budget'):\n",
    "                updates['budget'] = \"$25,000\"\n",
    "                print(f\"User provided budget: {updates['budget']}\")\n",
    "            if not state.get('project_title'):\n",
    "                updates['project_title'] = \"Mobile App Development\"\n",
    "                print(f\"User provided project title: {updates['project_title']}\")\n",
    "            return updates\n",
    "        else:\n",
    "            # Fallback for additional interactions\n",
    "            return {}\n",
    "    \n",
    "    return _collect\n",
    "\n",
    "def complete():\n",
    "    \"\"\"Final node when all information is collected\"\"\"\n",
    "    def _complete(state: CustomerInfoState) -> dict:\n",
    "        print(\"---Information Collection Complete---\")\n",
    "        \n",
    "        summary = f\"\"\"\n",
    "🎉 Thank you! I've collected all the required information:\n",
    "\n",
    "📋 Project Title: {state['project_title']}\n",
    "💰 Budget: {state['budget']}\n",
    "\n",
    "We can now proceed with your project!\n",
    "        \"\"\"\n",
    "        \n",
    "        print(summary)\n",
    "        \n",
    "        messages = state.get('messages', [])\n",
    "        messages.append(summary)\n",
    "        \n",
    "        return {\"messages\": messages}\n",
    "    \n",
    "    return _complete\n"
   ]
  },
  {
   "cell_type": "raw",
   "metadata": {
    "vscode": {
     "languageId": "raw"
    }
   },
   "source": [
    "## Build the Graph\n",
    "\n",
    "Now let's create our LangGraph with the conditional logic:\n",
    "\n",
    "1. Start by checking if information is complete\n",
    "2. If incomplete, ask questions and collect responses\n",
    "3. Loop back to check completeness\n",
    "4. When complete, end the conversation\n"
   ]
  },
  {
   "cell_type": "code",
   "execution_count": 4,
   "metadata": {},
   "outputs": [
    {
     "data": {
      "image/png": "[encoded data removed]",
      "text/plain": [
       "<IPython.core.display.Image object>"
      ]
     },
     "metadata": {},
     "output_type": "display_data"
    }
   ],
   "source": [
    "# Build the graph\n",
    "builder = StateGraph(CustomerInfoState)\n",
    "\n",
    "# Add nodes\n",
    "builder.add_node(\"check_info\", check_info_complete())\n",
    "builder.add_node(\"ask_questions\", ask_questions())\n",
    "builder.add_node(\"collect_info\", collect_info())\n",
    "builder.add_node(\"complete\", complete())\n",
    "\n",
    "# Add edges\n",
    "builder.add_edge(START, \"check_info\")\n",
    "\n",
    "# Conditional edges from check_info\n",
    "builder.add_conditional_edges(\n",
    "    \"check_info\",\n",
    "    lambda state: check_info_complete()(state),  # This returns \"ask_questions\" or \"complete\"\n",
    "    {\n",
    "        \"ask_questions\": \"ask_questions\",\n",
    "        \"complete\": \"complete\"\n",
    "    }\n",
    ")\n",
    "\n",
    "# Flow from ask_questions -> collect_info -> check_info (loop)\n",
    "builder.add_edge(\"ask_questions\", \"collect_info\")\n",
    "builder.add_edge(\"collect_info\", \"check_info\")\n",
    "\n",
    "# End at complete\n",
    "builder.add_edge(\"complete\", END)\n",
    "\n",
    "# Compile the graph\n",
    "graph = builder.compile()\n",
    "\n",
    "# Visualize the graph\n",
    "display(Image(graph.get_graph().draw_mermaid_png()))\n"
   ]
  }
 ],
 "metadata": {
  "kernelspec": {
   "display_name": "lc-academy-env",
   "language": "python",
   "name": "python3"
  },
  "language_info": {
   "codemirror_mode": {
    "name": "ipython",
    "version": 3
   },
   "file_extension": ".py",
   "mimetype": "text/x-python",
   "name": "python",
   "nbconvert_exporter": "python",
   "pygments_lexer": "ipython3",
   "version": "3.13.5"
  }
 },
 "nbformat": 4,
 "nbformat_minor": 2
}
